{
 "cells": [
  {
   "cell_type": "markdown",
   "metadata": {},
   "source": [
    "# Stock Price Analysis: BMW vs. Mercedes\n",
    "\n",
    "This notebook presents an analysis and prediction of stock prices for BMW and Mercedes using historical data. We’ll explore the stock data, create visualizations, and build predictive models to gain insights and make future predictions. The models will help us determine which factors influence stock prices and provide a forecast for both BMW and Mercedes.\n"
   ]
  },
  {
   "cell_type": "markdown",
   "metadata": {},
   "source": [
    "## 1. Importing libraries\n",
    "\n",
    "To start, we import the necessary libraries for data manipulation, visualization, and modeling. These include pandas, matplotlib, and machine learning tools from sklearn."
   ]
  },
  {
   "cell_type": "code",
   "execution_count": null,
   "metadata": {},
   "outputs": [],
   "source": [
    "!pip install yfinance pandas matplotlib seaborn scikit-learn pycaret sagemaker"
   ]
  },
  {
   "cell_type": "code",
   "execution_count": null,
   "metadata": {},
   "outputs": [],
   "source": [
    "# Import necessary libraries\n",
    "import pandas as pd\n",
    "import matplotlib.pyplot as plt\n",
    "import seaborn as sns\n",
    "from sklearn.model_selection import train_test_split\n",
    "from sklearn.linear_model import LinearRegression\n",
    "from sklearn.ensemble import RandomForestRegressor\n",
    "from sklearn.metrics import mean_squared_error\n",
    "import yfinance as yf\n",
    "\n",
    "# Set plot style\n",
    "sns.set(style=\"whitegrid\")"
   ]
  },
  {
   "cell_type": "markdown",
   "metadata": {},
   "source": [
    "## 2. Data collection\n",
    "\n",
    "We fetch historical stock data for BMW and Mercedes using yfinance. This step ensures we have a comprehensive dataset spanning multiple decades."
   ]
  },
  {
   "cell_type": "code",
   "execution_count": null,
   "metadata": {},
   "outputs": [],
   "source": [
    "# Fetch historical stock data\n",
    "bmw = yf.download(\"BMW.DE\", start=\"1970-01-01\", end=\"2024-01-01\")\n",
    "mercedes = yf.download(\"MBG.DE\", start=\"1970-01-01\", end=\"2024-01-01\")\n",
    "\n",
    "# Save full data to CSV\n",
    "bmw.to_csv(\"Datasets/bmw_stock_data.csv\")\n",
    "mercedes.to_csv(\"Datasets/mercedes_stock_data.csv\")"
   ]
  },
  {
   "cell_type": "markdown",
   "metadata": {},
   "source": [
    "## 3. Data loading Stockprice"
   ]
  },
  {
   "cell_type": "code",
   "execution_count": null,
   "metadata": {},
   "outputs": [],
   "source": [
    "# Load the BMW and Mercedes stock data\n",
    "bmw = pd.read_csv('Datasets/bmw_stock_data.csv', skiprows=2, names=[\"Date\", \"Adj Close\", \"Close\", \"High\", \"Low\", \"Open\", \"Volume\"])\n",
    "mercedes = pd.read_csv('Datasets/mercedes_stock_data.csv', skiprows=2, names=[\"Date\", \"Adj Close\", \"Close\", \"High\", \"Low\", \"Open\", \"Volume\"])"
   ]
  },
  {
   "cell_type": "markdown",
   "metadata": {},
   "source": [
    "## 4. Data Cleaning\n",
    "\n",
    "After loading the data, we need to ensure that the columns have the correct formats and remove any irregular data points. We’ll convert dates to datetime, set them as indices, and ensure numerical columns are properly formatted.\n"
   ]
  },
  {
   "cell_type": "code",
   "execution_count": null,
   "metadata": {},
   "outputs": [],
   "source": [
    "# Remove rows where 'Date' is invalid or contains non-date values\n",
    "bmw = bmw[pd.to_datetime(bmw['Date'], errors='coerce').notna()]\n",
    "mercedes = mercedes[pd.to_datetime(mercedes['Date'], errors='coerce').notna()]\n",
    "\n",
    "# Convert 'Date' column to datetime format\n",
    "bmw['Date'] = pd.to_datetime(bmw['Date'])\n",
    "mercedes['Date'] = pd.to_datetime(mercedes['Date'])\n",
    "\n",
    "# Set 'Date' as the index\n",
    "bmw.set_index('Date', inplace=True)\n",
    "mercedes.set_index('Date', inplace=True)\n",
    "\n",
    "# Convert price-related columns to numeric data types\n",
    "for col in [\"Adj Close\", \"Close\", \"High\", \"Low\", \"Open\", \"Volume\"]:\n",
    "    bmw[col] = pd.to_numeric(bmw[col], errors='coerce')\n",
    "    mercedes[col] = pd.to_numeric(mercedes[col], errors='coerce')\n",
    "\n",
    "\n",
    "# Filter the data for training (2000 to 2022)\n",
    "bmw_train = bmw.loc['2000-01-01':'2020-12-31']\n",
    "mercedes_train = mercedes.loc['2000-01-01':'2022-12-31']\n",
    "\n",
    "# Check for missing values\n",
    "print(\"BMW missing values:\\n\", bmw.isnull().sum())\n",
    "print(\"Mercedes missing values:\\n\", mercedes.isnull().sum())"
   ]
  },
  {
   "cell_type": "markdown",
   "metadata": {},
   "source": [
    "# 5. Overview of stockprices the last decades \n",
    "## 5.1 BMW"
   ]
  },
  {
   "cell_type": "code",
   "execution_count": null,
   "metadata": {},
   "outputs": [],
   "source": [
    "ma100=bmw.Close.rolling(100).mean()\n",
    "\n",
    "plt.figure(figsize=(18, 6))\n",
    "plt.plot(bmw['Close'], label='BMW', color='blue')\n",
    "plt.plot(ma100,'r', label='MA100')\n",
    "plt.title(\"Stock Prices And Rolling Mean of BMW\")\n",
    "plt.xlabel(\"Date\")\n",
    "plt.ylabel(\"Stock Price (Close)\")\n",
    "plt.legend()\n",
    "plt.show()"
   ]
  },
  {
   "cell_type": "markdown",
   "metadata": {},
   "source": [
    "## 5.2 Mercedes"
   ]
  },
  {
   "cell_type": "code",
   "execution_count": null,
   "metadata": {},
   "outputs": [],
   "source": [
    "ma100=mercedes.Close.rolling(100).mean()\n",
    "\n",
    "plt.figure(figsize=(18, 6))\n",
    "plt.plot(mercedes['Close'], label='BMW', color='blue')\n",
    "plt.plot(ma100,'r', label='MA100')\n",
    "plt.title(\"Stock Prices And Rolling Mean of BMW\")\n",
    "plt.xlabel(\"Date\")\n",
    "plt.ylabel(\"Stock Price (Close)\")\n",
    "plt.legend()\n",
    "plt.show()"
   ]
  },
  {
   "cell_type": "markdown",
   "metadata": {},
   "source": [
    "## 5.3 Comparing BMW Vs Mercedes Closing Stockprice\n",
    "We’ll start by exploring the stock price trends for both BMW and Mercedes. Analyzing the closing prices over time helps us observe any significant fluctuations or trends. The spike of stockprices ramped up in 2015 because of the introduction of new models, including advancements in their electric vehicle lineup, boosted investor confidence and market interest .\n"
   ]
  },
  {
   "cell_type": "code",
   "execution_count": null,
   "metadata": {},
   "outputs": [],
   "source": [
    "import matplotlib.dates as mdates\n",
    "\n",
    "# Plot the closing prices of BMW and Mercedes over time\n",
    "plt.figure(figsize=(14, 7))\n",
    "plt.plot(bmw['Close'], label='BMW', color='blue')\n",
    "plt.plot(mercedes['Close'], label='Mercedes', color='red')\n",
    "plt.title(\"Stock Prices 1997 - 2024: BMW vs Mercedes\")\n",
    "plt.xlabel(\"Date\")\n",
    "plt.ylabel(\"Stock Price (Close)\")\n",
    "plt.gca().xaxis.set_major_locator(mdates.YearLocator(2))\n",
    "plt.legend()\n",
    "plt.show()"
   ]
  },
  {
   "cell_type": "markdown",
   "metadata": {},
   "source": [
    "## 5.4  Impact of COVID-19 on Stock Prices\n",
    "\n",
    "We analyze the price trends during the COVID-19 period (2019-2024) to identify significant changes. Both companies faced unprecedented challenges during the COVID-19 period, but BMW's strategic resilience and market positioning helped it weather the storm slightly better than Mercedes-Benz.\n"
   ]
  },
  {
   "cell_type": "code",
   "execution_count": null,
   "metadata": {},
   "outputs": [],
   "source": [
    "# Filter data to focus on the period around COVID-19 (2019-2024)\n",
    "bmw_covid = bmw['2019-01-01':'2024-12-31']\n",
    "mercedes_covid = mercedes['2019-01-01':'2024-12-31']\n",
    "\n",
    "# Find the highest pre-COVID price (January 2020)\n",
    "bmw_pre_covid = bmw_covid['2020-01-01':'2020-01-31']['Close'].max()\n",
    "mercedes_pre_covid = mercedes_covid['2020-01-01':'2020-01-31']['Close'].max()\n",
    "\n",
    "# Find the lowest price during the COVID-19 period (March 2020)\n",
    "bmw_covid_drop = bmw_covid['2020-02-01':'2020-04-30']['Close'].min()\n",
    "mercedes_covid_drop = mercedes_covid['2020-02-01':'2020-04-30']['Close'].min()\n",
    "\n",
    "# Calculate the percentage drop for both BMW and Mercedes\n",
    "bmw_drop_percentage = ((bmw_pre_covid - bmw_covid_drop) / bmw_pre_covid) * 100\n",
    "mercedes_drop_percentage = ((mercedes_pre_covid - mercedes_covid_drop) / mercedes_pre_covid) * 100\n",
    "\n",
    "# Print out the percentage drops\n",
    "print(f\"BMW's stock dropped by {bmw_drop_percentage.item():.2f}% during the COVID-19 period.\")\n",
    "print(f\"Mercedes' stock dropped by {mercedes_drop_percentage.item():.2f}% during the COVID-19 period.\")\n",
    "\n",
    "# Plot the closing prices of BMW and Mercedes during COVID-19 period\n",
    "plt.figure(figsize=(14, 7))\n",
    "plt.plot(bmw_covid['Close'], label='BMW', color='blue')\n",
    "plt.plot(mercedes_covid['Close'], label='Mercedes', color='red')\n",
    "\n",
    "# Highlight the dip and recovery due to COVID-19\n",
    "plt.axvspan('2020-02-01', '2020-05-01', color='gray', alpha=0.5, label='COVID-19 Impact')\n",
    "\n",
    "# Set the title, labels, and x-axis tick formatting\n",
    "plt.title(\"Stock Prices (2019 - 2024): BMW vs Mercedes - COVID-19 Impact\")\n",
    "plt.xlabel(\"Date\")\n",
    "plt.ylabel(\"Stock Price (EUR)\")\n",
    "\n",
    "# Format x-axis to display every 6 months\n",
    "plt.gca().xaxis.set_major_locator(mdates.MonthLocator(6))\n",
    "plt.gca().xaxis.set_major_formatter(mdates.DateFormatter('%Y'))\n",
    "\n",
    "# Display the legend\n",
    "plt.legend()\n",
    "\n",
    "# Show the plot\n",
    "plt.show()"
   ]
  },
  {
   "cell_type": "markdown",
   "metadata": {},
   "source": [
    "## 5.5 Seasonal Trends\n",
    "\n",
    "Seasonal trends reveal cyclical stock price patterns. Below, we compare trends for the entire dataset and the last 5 years."
   ]
  },
  {
   "cell_type": "code",
   "execution_count": null,
   "metadata": {},
   "outputs": [],
   "source": [
    "# Filter data for the last 5 years (2019-2024)\n",
    "bmw_last_5_years = bmw['2019-01-01':'2024-12-31']\n",
    "mercedes_last_5_years = mercedes['2019-01-01':'2024-12-31']\n",
    "\n",
    "# Add a 'Month' column for the full dataset\n",
    "bmw['Month'] = bmw.index.month\n",
    "mercedes['Month'] = mercedes.index.month\n",
    "\n",
    "# Calculate monthly averages for the full dataset\n",
    "bmw_monthly_avg_full = bmw.groupby('Month')['Close'].mean()\n",
    "mercedes_monthly_avg_full = mercedes.groupby('Month')['Close'].mean()\n",
    "\n",
    "# Add a 'Month' column for the last 5 years\n",
    "bmw_last_5_years['Month'] = bmw_last_5_years.index.month\n",
    "mercedes_last_5_years['Month'] = mercedes_last_5_years.index.month\n",
    "\n",
    "# Calculate monthly averages for the last 5 years\n",
    "bmw_monthly_avg_5_years = bmw_last_5_years.groupby('Month')['Close'].mean()\n",
    "mercedes_monthly_avg_5_years = mercedes_last_5_years.groupby('Month')['Close'].mean()\n",
    "\n",
    "# Plot seasonal trends for both the full dataset and the last 5 years\n",
    "plt.figure(figsize=(14, 7))\n",
    "\n",
    "# Plot for BMW\n",
    "plt.plot(bmw_monthly_avg_full, label='BMW Monthly Average (1997 - 2024)', color='blue', linestyle='-', marker='o')\n",
    "plt.plot(bmw_monthly_avg_5_years, label='BMW Monthly Average (Last 5 Years)', color='blue', linestyle='--', marker='x')\n",
    "\n",
    "# Plot for Mercedes\n",
    "plt.plot(mercedes_monthly_avg_full, label='Mercedes Monthly Average (1997 - 2024)', color='red', linestyle='-', marker='o')\n",
    "plt.plot(mercedes_monthly_avg_5_years, label='Mercedes Monthly Average (Last 5 Years)', color='red', linestyle='--', marker='x')\n",
    "\n",
    "# Add title and labels\n",
    "plt.title(\"Seasonal Trends: BMW vs. Mercedes (1997 - 2024 vs Last 5 Years)\")\n",
    "plt.xlabel(\"Month\")\n",
    "plt.ylabel(\"Average Stock Price\")\n",
    "plt.xticks(range(1, 13), ['Jan', 'Feb', 'Mar', 'Apr', 'May', 'Jun', \n",
    "                          'Jul', 'Aug', 'Sep', 'Oct', 'Nov', 'Dec'])\n",
    "\n",
    "# Add legend\n",
    "plt.legend()\n",
    "\n",
    "# Show the plot\n",
    "plt.show()"
   ]
  },
  {
   "cell_type": "markdown",
   "metadata": {},
   "source": [
    "## 5.6 Pricechanges in Percentage Vs Stockprice BMW vs Mercedes"
   ]
  },
  {
   "cell_type": "code",
   "execution_count": null,
   "metadata": {},
   "outputs": [],
   "source": [
    "bmw['Price Change (%)'] = bmw['Close'].pct_change() * 100\n",
    "mercedes['Price Change (%)'] = mercedes['Close'].pct_change() * 100\n",
    "\n",
    "plt.figure(figsize=(10, 6))\n",
    "plt.scatter(bmw['Close'], bmw['Price Change (%)'], color='blue', label='BMW')\n",
    "plt.scatter(mercedes['Close'], mercedes['Price Change (%)'], color='red', alpha=0.3, label='Mercedes')\n",
    "plt.title(\"Percentage Change vs. Stock Price: BMW vs. Mercedes\")\n",
    "plt.xlabel(\"Stock Price (Close)\")\n",
    "plt.ylabel(\"Percentage Change (%)\")\n",
    "plt.legend()\n",
    "plt.show()"
   ]
  }
 ],
 "metadata": {
  "kernelspec": {
   "display_name": "venv",
   "language": "python",
   "name": "python3"
  },
  "language_info": {
   "name": "python",
   "version": "3.10.0"
  }
 },
 "nbformat": 4,
 "nbformat_minor": 2
}
