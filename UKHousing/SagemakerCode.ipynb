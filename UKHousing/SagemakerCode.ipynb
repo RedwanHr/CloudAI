{
 "cells": [
  {
   "cell_type": "code",
   "execution_count": 1,
   "metadata": {},
   "outputs": [
    {
     "ename": "ModuleNotFoundError",
     "evalue": "No module named 'boto3'",
     "output_type": "error",
     "traceback": [
      "\u001b[1;31m---------------------------------------------------------------------------\u001b[0m",
      "\u001b[1;31mModuleNotFoundError\u001b[0m                       Traceback (most recent call last)",
      "Cell \u001b[1;32mIn[1], line 1\u001b[0m\n\u001b[1;32m----> 1\u001b[0m \u001b[38;5;28;01mimport\u001b[39;00m \u001b[38;5;21;01mboto3\u001b[39;00m\n\u001b[0;32m      2\u001b[0m \u001b[38;5;28;01mimport\u001b[39;00m \u001b[38;5;21;01mpandas\u001b[39;00m \u001b[38;5;28;01mas\u001b[39;00m \u001b[38;5;21;01mpd\u001b[39;00m\n\u001b[0;32m      3\u001b[0m \u001b[38;5;28;01mfrom\u001b[39;00m \u001b[38;5;21;01msklearn\u001b[39;00m\u001b[38;5;21;01m.\u001b[39;00m\u001b[38;5;21;01mpreprocessing\u001b[39;00m \u001b[38;5;28;01mimport\u001b[39;00m LabelEncoder\n",
      "\u001b[1;31mModuleNotFoundError\u001b[0m: No module named 'boto3'"
     ]
    }
   ],
   "source": [
    "import boto3\n",
    "import pandas as pd\n",
    "from sklearn.preprocessing import LabelEncoder\n",
    "from sklearn.model_selection import train_test_split"
   ]
  },
  {
   "cell_type": "code",
   "execution_count": null,
   "metadata": {},
   "outputs": [],
   "source": [
    "#load the data\n",
    "bucket_name = \"ukhouseholding\"\n",
    "file_key = \"subset_80.csv\"\n",
    "s3 = boto3.client(\"s3\")\n",
    "url = s3.generate_presigned_url(\n",
    "    ClientMethod=\"get_object\",\n",
    "    Params={\"Bucket\": bucket_name, \"Key\": file_key},\n",
    "    ExpiresIn=3600  # URL expires in 1 hour\n",
    ")\n",
    "data = pd.read_csv(url)\n",
    "data.columns = data.columns.str.lower()\n",
    "data"
   ]
  },
  {
   "cell_type": "code",
   "execution_count": null,
   "metadata": {},
   "outputs": [
    {
     "ename": "NameError",
     "evalue": "name 'data' is not defined",
     "output_type": "error",
     "traceback": [
      "\u001b[1;31m---------------------------------------------------------------------------\u001b[0m",
      "\u001b[1;31mNameError\u001b[0m                                 Traceback (most recent call last)",
      "Cell \u001b[1;32mIn[2], line 1\u001b[0m\n\u001b[1;32m----> 1\u001b[0m data \u001b[38;5;241m=\u001b[39m \u001b[43mdata\u001b[49m\u001b[38;5;241m.\u001b[39mdrop(columns\u001b[38;5;241m=\u001b[39m[\u001b[38;5;124m'\u001b[39m\u001b[38;5;124mtransaction unique identifier\u001b[39m\u001b[38;5;124m'\u001b[39m, \u001b[38;5;124m'\u001b[39m\u001b[38;5;124mproperty type\u001b[39m\u001b[38;5;124m'\u001b[39m, \u001b[38;5;124m'\u001b[39m\u001b[38;5;124mold/new\u001b[39m\u001b[38;5;124m'\u001b[39m, \u001b[38;5;124m'\u001b[39m\u001b[38;5;124mduration\u001b[39m\u001b[38;5;124m'\u001b[39m, \u001b[38;5;124m'\u001b[39m\u001b[38;5;124mtown/city\u001b[39m\u001b[38;5;124m'\u001b[39m, \u001b[38;5;124m'\u001b[39m\u001b[38;5;124mdistrict\u001b[39m\u001b[38;5;124m'\u001b[39m, \u001b[38;5;124m'\u001b[39m\u001b[38;5;124mcounty\u001b[39m\u001b[38;5;124m'\u001b[39m, \u001b[38;5;124m'\u001b[39m\u001b[38;5;124mppdcategory type\u001b[39m\u001b[38;5;124m'\u001b[39m, \u001b[38;5;124m'\u001b[39m\u001b[38;5;124mrecord status - monthly file only\u001b[39m\u001b[38;5;124m'\u001b[39m])\n\u001b[0;32m      2\u001b[0m data \u001b[38;5;241m=\u001b[39m data\u001b[38;5;241m.\u001b[39mdropna()  \u001b[38;5;66;03m# Handle missing values, if any\u001b[39;00m\n\u001b[0;32m      3\u001b[0m data\n",
      "\u001b[1;31mNameError\u001b[0m: name 'data' is not defined"
     ]
    }
   ],
   "source": [
    "data = data.drop(columns=['transaction unique identifier', 'property type', 'old/new', 'duration', 'town/city', 'district', 'county', 'ppdcategory type', 'record status - monthly file only'])\n",
    "data = data.dropna()  # Handle missing values, if any\n",
    "data"
   ]
  },
  {
   "cell_type": "code",
   "execution_count": null,
   "metadata": {},
   "outputs": [
    {
     "ename": "NameError",
     "evalue": "name 'pd' is not defined",
     "output_type": "error",
     "traceback": [
      "\u001b[1;31m---------------------------------------------------------------------------\u001b[0m",
      "\u001b[1;31mNameError\u001b[0m                                 Traceback (most recent call last)",
      "Cell \u001b[1;32mIn[3], line 8\u001b[0m\n\u001b[0;32m      1\u001b[0m \u001b[38;5;66;03m# data['ppdcategory type'] = data['ppdcategory type'].astype('category')\u001b[39;00m\n\u001b[0;32m      2\u001b[0m \u001b[38;5;66;03m# data['old/new'] = data['old/new'].astype('category')\u001b[39;00m\n\u001b[0;32m      3\u001b[0m \u001b[38;5;66;03m# data['duration'] = data['duration'].astype('category')\u001b[39;00m\n\u001b[1;32m   (...)\u001b[0m\n\u001b[0;32m      6\u001b[0m \u001b[38;5;66;03m# data['county'] = data['county'].astype('category')\u001b[39;00m\n\u001b[0;32m      7\u001b[0m \u001b[38;5;66;03m# data['property type'] = data['property type'].astype('category')\u001b[39;00m\n\u001b[1;32m----> 8\u001b[0m data[\u001b[38;5;124m'\u001b[39m\u001b[38;5;124mdate of transfer\u001b[39m\u001b[38;5;124m'\u001b[39m] \u001b[38;5;241m=\u001b[39m \u001b[43mpd\u001b[49m\u001b[38;5;241m.\u001b[39mto_datetime(data[\u001b[38;5;124m'\u001b[39m\u001b[38;5;124mdate of transfer\u001b[39m\u001b[38;5;124m'\u001b[39m])\n",
      "\u001b[1;31mNameError\u001b[0m: name 'pd' is not defined"
     ]
    }
   ],
   "source": [
    "data['date of transfer'] = pd.to_datetime(data['date of transfer'])"
   ]
  },
  {
   "cell_type": "code",
   "execution_count": null,
   "metadata": {},
   "outputs": [],
   "source": [
    "data[\"price\"] = data[\"price\"].astype(float)\n",
    "\n",
    "# Split the data into features (X) and target (y)\n",
    "X = data.drop(columns=[\"price\"])  # Features\n",
    "y = data[\"price\"]                 # Target\n",
    "\n",
    "# Combine the features and target into a single DataFrame for training\n",
    "train_data = pd.concat([y, X], axis=1)\n",
    "\n",
    "# Save the training data to a local CSV file\n",
    "train_data.to_csv(\"train_data.csv\", index=False)\n",
    "s3_client = boto3.client(\"s3\")\n",
    "s3_prefix = \"train/train_data.csv\"\n",
    "s3_client.upload_file(\"train_data.csv\", bucket_name, s3_prefix)"
   ]
  },
  {
   "cell_type": "markdown",
   "metadata": {},
   "source": [
    "We create a new Sagemaker session using the `Session` function. We then retrieve the Identity and Access Management (IAM) role that Sagemaker uses to create tasks on my behalf using the `get_execution_role()`."
   ]
  },
  {
   "cell_type": "code",
   "execution_count": null,
   "metadata": {},
   "outputs": [],
   "source": [
    "session = sagemaker.Session()\n",
    "role = get_execution_role()"
   ]
  },
  {
   "cell_type": "markdown",
   "metadata": {},
   "source": [
    "We then define the name of the bucket in which our training dataset is stored."
   ]
  },
  {
   "cell_type": "code",
   "execution_count": null,
   "metadata": {},
   "outputs": [],
   "source": [
    "bucket_name = \"ukhouseholding\"  # Replace with your bucket name"
   ]
  },
  {
   "cell_type": "markdown",
   "metadata": {},
   "source": [
    "We then retrieve the Amazon Sagemaker container URI for the XGBoost algorithm. This ensures we create an xgboost model. The pro's of this model are that there is a high performance, parallel processing and cross-validation."
   ]
  },
  {
   "cell_type": "code",
   "execution_count": null,
   "metadata": {},
   "outputs": [],
   "source": [
    "container = sagemaker.image_uris.retrieve(\"xgboost\", session.boto_region_name, version=\"1.5-1\")"
   ]
  },
  {
   "cell_type": "markdown",
   "metadata": {},
   "source": [
    "We configure the machine learning training job on Amazon Sagemaker. \n",
    "\n",
    "Using the `image_uri` variable, we configure the docker image URI as that of the xgboost. \n",
    "\n",
    "Using the `role` variable, we give the model the role it can assume to perform takss on. \n",
    "\n",
    "Using the `instance_count` variable, we create 1 instance of Machine Learning compute instances to use for training. \n",
    "\n",
    "Using the `instance_type` variable, we define the ML compte instance to use for training.\n",
    "\n",
    "Using the `output_path` variable, we define the output path as `s3://ukhouseholding/ukhouseholding-xgboost`. \n",
    "\n",
    "Using the `sagemaker_session` variable, we define the session that manages interactions with the Sagemaker service. \n",
    "\n",
    "Lastly we define the name for the training job using the `base_job_name` variable."
   ]
  },
  {
   "cell_type": "code",
   "execution_count": null,
   "metadata": {},
   "outputs": [],
   "source": [
    "xgboost = Estimator(\n",
    "    image_uri=container,\n",
    "    role=role,\n",
    "    instance_count=1,\n",
    "    instance_type=\"ml.p3.2xlarge\",  # GPU instance type\n",
    "    output_path=f\"s3://{bucket_name}/ukhouseholding-xgboost\",  # Output path in S3\n",
    "    sagemaker_session=session,\n",
    "    base_job_name=\"ukhouseholding-xgboost-job\"\n",
    ")"
   ]
  },
  {
   "cell_type": "markdown",
   "metadata": {},
   "source": [
    "We set the parameters for the XGBoost model. \n",
    "\n",
    "Using the `objective` variable, we sepcify the learning task and the corresponding objective. \n",
    "\n",
    "Using the `num_round` variable, we specify the number of boosting rounds\n",
    "\n",
    "Using the `max_depth` variable, we specify the maximum depth of a tree, controlling the complexity of the model.\n",
    "\n",
    "Using the `eta` variable, we specify the learning rate, which scales the contribution of each tree.\n",
    "\n",
    "Using the `gamma` variable, we specify the minimum loss reduction.\n",
    "\n",
    "Using the `subsample` variable, we specify the amount of training data to be randomly sampled for each tree.\n",
    "\n",
    "Lastly we specify the fraction of features to be randomly sampled for each tree using the `colsample_bytree` variable."
   ]
  },
  {
   "cell_type": "code",
   "execution_count": null,
   "metadata": {},
   "outputs": [],
   "source": [
    "xgboost.set_hyperparameters(\n",
    "    objective=\"reg:squarederror\",  # Binary classification\n",
    "    num_round=100,            # Number of training rounds\n",
    "    max_depth=5,              # Example hyperparameter\n",
    "    eta=0.2,                  # Learning rate\n",
    "    gamma=4,                  # Minimum loss reduction\n",
    "    subsample=0.8,            # Subsample ratio of training instances\n",
    "    colsample_bytree=0.8      # Subsample ratio of columns\n",
    "    \n",
    ")"
   ]
  },
  {
   "cell_type": "code",
   "execution_count": null,
   "metadata": {},
   "outputs": [],
   "source": [
    "train_input = TrainingInput(\n",
    "    s3_data=f\"s3://{bucket_name}/{s3_prefix}\",  # S3 path to training data\n",
    "    content_type=\"text/csv\"     # Data format\n",
    ")\n",
    "try:\n",
    "    xgboost.fit({\"train\": train_input})\n",
    "except Exception as e:\n",
    "    print(f\"Error: {e}\")\n",
    "try:\n",
    "    xgboost.fit({\"train\": train_input})\n",
    "except Exception as e:\n",
    "    print(f\"Error: {e}\")"
   ]
  },
  {
   "cell_type": "code",
   "execution_count": null,
   "metadata": {},
   "outputs": [],
   "source": [
    "sm_client = boto3.client(\"sagemaker\")\n",
    "\n",
    "# Check if the job exists\n",
    "job_name = xgboost.latest_training_job.name\n",
    "response = sm_client.describe_training_job(TrainingJobName=job_name)\n",
    "print(response)"
   ]
  },
  {
   "cell_type": "code",
   "execution_count": null,
   "metadata": {},
   "outputs": [],
   "source": [
    "model_artifact_s3_uri = f\"s3://ukhouseholding/ukhouseholding-xgboost/ukhouseholding-xgboost-job-2024-11-27-08-27-55-012/output/model.tar.gz\"\n",
    "\n",
    "# Parse bucket and key from the URI\n",
    "parsed_uri = model_artifact_s3_uri.replace(\"s3://\", \"\").split(\"/\")\n",
    "bucket_name = parsed_uri[0]\n",
    "key = \"/\".join(parsed_uri[1:])\n",
    "\n",
    "# Initialize S3 client\n",
    "s3 = boto3.client(\"s3\")\n",
    "\n",
    "# Download the model artifact locally\n",
    "local_file_path = \"model.tar.gz\"  # Specify the desired local file name\n",
    "s3.download_file(bucket_name, key, local_file_path)\n",
    "\n",
    "print(f\"Model saved locally as {local_file_path}\")"
   ]
  }
 ],
 "metadata": {
  "kernelspec": {
   "display_name": "project_venv",
   "language": "python",
   "name": "python3"
  },
  "language_info": {
   "codemirror_mode": {
    "name": "ipython",
    "version": 3
   },
   "file_extension": ".py",
   "mimetype": "text/x-python",
   "name": "python",
   "nbconvert_exporter": "python",
   "pygments_lexer": "ipython3",
   "version": "3.10.8"
  }
 },
 "nbformat": 4,
 "nbformat_minor": 2
}
